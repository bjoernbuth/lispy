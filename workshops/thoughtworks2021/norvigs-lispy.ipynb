{
 "cells": [
  {
   "cell_type": "markdown",
   "id": "9e53b947",
   "metadata": {},
   "source": [
    "# Norvig's `lis.py`\n",
    "\n",
    "Contents:\n",
    "\n",
    "* [Scheme Syntax](#Scheme-Syntax)\n",
    "* [Imports and types](#Imports-and-types)\n",
    "* [The Parser](#The-Parser)\n",
    "  * [Exercise 0](#Exercise-0)\n",
    "* [The Built-in Environment](#The-Built-in-Environment)\n",
    "* [A Calculator](#A-Calculator)\n",
    "* [Non-interactive execution](#Non-interactive-execution)\n",
    "  * [Exercise 1](#Exercise-1)\n",
    "  * [Exercise 2](#Exercise-2)\n",
    "* [The REPL](#The-REPL)"
   ]
  },
  {
   "cell_type": "markdown",
   "id": "2ab26756",
   "metadata": {},
   "source": [
    "## Introduction\n",
    "\n",
    "[Peter Norvig](https://norvig.com/) of Stanford University wrote\n",
    "[`lis.py`](https://github.com/norvig/pytudes/blob/main/py/lis.py):\n",
    "an interpreter for a subset of the Scheme dialect of Lisp in 132 lines of readable Python code.\n",
    "\n",
    "Why should you study `lis.py`? This is what I got out of it:\n",
    "\n",
    "* Learning how an interpreter works gave me a deeper understanding of Python and programming languages in general—interpreted or compiled.\n",
    "\n",
    "* The simplicity of Scheme is a master class of language design.\n",
    "\n",
    "* `lis.py` is a beautiful example of idiomatic Python code.\n",
    "\n",
    "\n",
    "![Norvig's lispy](norvigs-lispy.png)\n",
    "\n",
    "Before looking at the Python code, let’s get a little taste of Scheme—in case you haven’t seen it (or Lisp) before."
   ]
  },
  {
   "cell_type": "markdown",
   "id": "feabd3c3",
   "metadata": {},
   "source": [
    "## Scheme Syntax\n",
    "\n",
    "\n",
    "Everything in Scheme is an expression.\n",
    "There are no infix operators:\n",
    "all expressions use prefix notation like `(+ x 13)` instead of `x + 13`.\n",
    "The same prefix notation is used for function calls—e.g. `(gcd x 13)`—and\n",
    "special forms—e.g. `(define x 13)`,\n",
    "which we'd write as the assignment statement `x = 13` in\n",
    "Python.\n",
    "The notation used by Scheme and most Lisp dialects is known as _S-expression_.\n",
    "\n",
    "Here is a simple example in Scheme:\n",
    "\n",
    "```scheme\n",
    "(define (mod m n)\n",
    "    (- m (* n (// m n))))\n",
    "\n",
    "(define (gcd m n)\n",
    "    (if (= n 0)\n",
    "        m\n",
    "        (gcd n (mod m n))))\n",
    "\n",
    "(display (gcd 18 45))\n",
    "```"
   ]
  },
  {
   "cell_type": "markdown",
   "id": "77d983a7",
   "metadata": {},
   "source": [
    "Here is the same algorithm in Python:"
   ]
  },
  {
   "cell_type": "code",
   "execution_count": null,
   "id": "81e553c3",
   "metadata": {},
   "outputs": [],
   "source": [
    "def mod(m, n):\n",
    "    return m - (m // n * n)\n",
    "\n",
    "def gcd(m, n):\n",
    "    if n == 0:\n",
    "        return m\n",
    "    else:\n",
    "        return gcd(n, mod(m, n))\n",
    "\n",
    "print(gcd(18, 45))"
   ]
  },
  {
   "cell_type": "markdown",
   "id": "ec042161",
   "metadata": {},
   "source": [
    "> **HINT**: Click on the cell above to select it, then hit `[CTRL][ENTER]` to execute it.\n",
    "\n",
    "In idiomatic Python I'd use the `%` operator instead of reinventing `mod`,\n",
    "and it would be more efficient to use a `while` loop instead of recursion.\n",
    "But I wanted to show two function definitions,\n",
    "and make the examples as similar as possible,\n",
    "to help you read the Scheme code.\n",
    "\n",
    "Scheme has no iterative control flow commands like `while` or `for`.\n",
    "Iteration is done with recursion.\n",
    "Note how there are no assignments in the Scheme and Python examples.\n",
    "Extensive use of recursion and minimal use of assignment\n",
    "are hallmarks of programming in a functional style.\n",
    "\n",
    "Now let's review the code of the Python 3.10 version of `lis.py`.\n",
    "The complete source code with tests is in the [18-with-match/lispy/py3.10/](https://github.com/fluentpython/example-code-2e/tree/master/18-with-match/lispy/py3.10/)\n",
    "directory of the Github repository\n",
    "[fluentpython/example-code-2e](https://github.com/fluentpython/example-code-2e)."
   ]
  },
  {
   "cell_type": "markdown",
   "id": "ce316812",
   "metadata": {},
   "source": [
    "## Imports and types\n",
    "\n",
    "Norvig's code does not use type hints. I added them. This notebook uses Python 3.7 to run on [Binder](https://mybinder.org/), therefore the some collections types must be imported from `typing`.\n",
    "\n",
    "> **HINT**: Click on the cell below to select it, then hit `[SHIFT][ENTER]` to execute and select the next cell. Use `[CTRL][ENTER]` to execute a cell and keep it selected. Use these commands to execute cells as you follow along."
   ]
  },
  {
   "cell_type": "code",
   "execution_count": null,
   "id": "a42402f9",
   "metadata": {},
   "outputs": [],
   "source": [
    "import sys\n",
    "assert sys.version_info >= (3, 7), f'Expected Python ≥ 3.7; found: {sys.version}'\n",
    "sys.version"
   ]
  },
  {
   "cell_type": "code",
   "execution_count": null,
   "id": "4d1a14aa",
   "metadata": {},
   "outputs": [],
   "source": [
    "import math\n",
    "import operator as op\n",
    "from collections import ChainMap\n",
    "from typing import Any, NoReturn\n",
    "from typing import Union, List, MutableMapping, Optional, Iterator\n",
    "\n",
    "Symbol = str\n",
    "Atom = Union[float, int, Symbol]\n",
    "Expression = Union[Atom, List]\n",
    "\n",
    "Environment = MutableMapping[Symbol, object]"
   ]
  },
  {
   "cell_type": "markdown",
   "id": "24ae27c8",
   "metadata": {},
   "source": [
    "The types defined are:\n",
    "\n",
    "`Symbol`: Just an alias for `str`.\n",
    "In _lis.py_, `Symbol` is used for identifiers,\n",
    "there is no string data type with operations such as slicing, splitting etc.\n",
    "\n",
    "`Atom`: A simple syntactic element such as a number or a `Symbol`—as opposed to a composite structure made of distinct parts, like a list.\n",
    "\n",
    "`Expression`: The building blocks of Scheme programs are expressions made of atoms and lists, possibly nested.\n",
    "\n",
    "> **NOTE**: Norvig's second interpreter,\n",
    "[`lispy.py`](https://github.com/fluentpython/example-code-2e/blob/master/18-with-match/lispy/original/lispy.py),\n",
    "supports strings as a data type, as well as advanced features like\n",
    "syntactic macros, continuations, and proper tail calls.\n",
    "However, `lispy.py` is almost three times longer than `lis.py`—and\n",
    "harder to understand."
   ]
  },
  {
   "cell_type": "markdown",
   "id": "64b8235b",
   "metadata": {},
   "source": [
    "## The Parser\n",
    "\n",
    "Norvig's parser is 36 lines of code showcasing the power of Python applied to handling the\n",
    "simple recursive syntax of S-expression—without string data,\n",
    "comments, macros, and other features of standard Scheme that make parsing more complicated (these features are implemented in `lispy.py`)."
   ]
  },
  {
   "cell_type": "code",
   "execution_count": null,
   "id": "afd17d24",
   "metadata": {},
   "outputs": [],
   "source": [
    "def parse(program: str) -> Expression:\n",
    "    \"Read a Scheme expression from a string.\"\n",
    "    return read_from_tokens(tokenize(program))\n",
    "\n",
    "def tokenize(s: str) -> List[str]:\n",
    "    \"Convert a string into a list of tokens.\"\n",
    "    return s.replace('(', ' ( ').replace(')', ' ) ').split()\n",
    "\n",
    "def read_from_tokens(tokens: List[str]) -> Expression:\n",
    "    \"Read an expression from a sequence of tokens.\"\n",
    "    if len(tokens) == 0:\n",
    "        raise SyntaxError('unexpected EOF while reading')\n",
    "    token = tokens.pop(0)\n",
    "    if '(' == token:\n",
    "        exp = []\n",
    "        while tokens[0] != ')':\n",
    "            exp.append(read_from_tokens(tokens))\n",
    "        tokens.pop(0)  # discard ')'\n",
    "        return exp\n",
    "    elif ')' == token:\n",
    "        raise SyntaxError('unexpected )')\n",
    "    else:\n",
    "        return parse_atom(token)\n",
    "\n",
    "def parse_atom(token: str) -> Atom:\n",
    "    \"Numbers become numbers; every other token is a symbol.\"\n",
    "    try:\n",
    "        return int(token)\n",
    "    except ValueError:\n",
    "        try:\n",
    "            return float(token)\n",
    "        except ValueError:\n",
    "            return Symbol(token)"
   ]
  },
  {
   "cell_type": "markdown",
   "id": "28645a00",
   "metadata": {},
   "source": [
    "The main function of that group is `parse` which takes an S-expressions as a `str`\n",
    "and returns an `Expression` object: an `Atom` or a `list` that may contain more atoms and nested lists.\n",
    "\n",
    "Norvig uses a smart trick in `tokenize`:\n",
    "he adds spaces before and after each parenthesis in the input and then splits it,\n",
    "resulting in a list of syntactic tokens with `'('` and `')'`\n",
    "as separate tokens.\n",
    "This shortcut works because there is no string type in the little Scheme of _lis.py_, so every `'('` or `')'` is an expression delimiter.\n",
    "The recursive parsing code is in `read_from_tokens`.\n",
    "I will not explain it now because I want to focus on the other parts of the interpreter.\n",
    "\n",
    "Below are some examples of the top-level `parse` function.\n",
    "\n",
    "> **HINT**:  To run the code in each cell and select the next, use `[SHIFT][ENTER]`. If you get `NameError: name 'parse' is not defined`, use the menu command ***Cell > Run All Above***."
   ]
  },
  {
   "cell_type": "code",
   "execution_count": null,
   "id": "f4edf5e7",
   "metadata": {},
   "outputs": [],
   "source": [
    "parse('1.5')"
   ]
  },
  {
   "cell_type": "code",
   "execution_count": null,
   "id": "b1428c3b",
   "metadata": {},
   "outputs": [],
   "source": [
    "parse('ni!')"
   ]
  },
  {
   "cell_type": "code",
   "execution_count": null,
   "id": "99225447",
   "metadata": {},
   "outputs": [],
   "source": [
    "parse('''\n",
    "  (define double\n",
    "    (lambda (n)\n",
    "      (* n 2)))\n",
    "''')"
   ]
  },
  {
   "cell_type": "markdown",
   "id": "345d5f3d",
   "metadata": {},
   "source": [
    "The parsing rules for this subset of Scheme are simple:\n",
    "\n",
    "1. A token that looks like a number is parsed as a `float` or `int`.\n",
    "2. Anything else that is not `'('` or `')'` is parsed as a `Symbol`—a `str` to be used as an identifier. This includes source text like `+`, `set!`, and `make-counter` that are valid identifiers in Scheme but not in Python.\n",
    "3. Expressions inside `'('` and `')'` are recursively parsed as lists containing atoms or nested lists that may contain atoms and more nested lists.\n",
    "\n",
    "Using terminology of the Python interpreter, the output of `parse` is an **AST** (Abstract Syntax Tree):\n",
    "a convenient representation of the Scheme program as nested lists forming a tree-like structure,\n",
    "where the outermost list is the trunk, inner lists are the branches, and atoms are the leaves."
   ]
  },
  {
   "cell_type": "markdown",
   "id": "e253259b",
   "metadata": {},
   "source": [
    "### Exercise 0\n",
    "\n",
    "Replace the ellipis `...` with the AST for the given S-expressions, to make the comparison `True`.\n",
    "To run the code in the cell, use CTRL-ENTER. "
   ]
  },
  {
   "cell_type": "code",
   "execution_count": null,
   "id": "9e9dc8a0",
   "metadata": {},
   "outputs": [],
   "source": [
    "parse('9') == ..."
   ]
  },
  {
   "cell_type": "code",
   "execution_count": null,
   "id": "4cd69579",
   "metadata": {},
   "outputs": [],
   "source": [
    "parse('x/y') == ..."
   ]
  },
  {
   "cell_type": "code",
   "execution_count": null,
   "id": "fb69472b",
   "metadata": {
    "scrolled": true
   },
   "outputs": [],
   "source": [
    "parse('(+ 3 7)') == ..."
   ]
  },
  {
   "cell_type": "code",
   "execution_count": null,
   "id": "84b5f022",
   "metadata": {
    "scrolled": true
   },
   "outputs": [],
   "source": [
    "parse('(* c (/ 9 5))') == ..."
   ]
  },
  {
   "cell_type": "code",
   "execution_count": null,
   "id": "bd9a131f",
   "metadata": {
    "scrolled": true
   },
   "outputs": [],
   "source": [
    "parse('(+ 32 (* (/ 9 5) c ))') == ..."
   ]
  },
  {
   "cell_type": "markdown",
   "id": "d7213529",
   "metadata": {},
   "source": [
    "## The Built-in Environment\n",
    "\n",
    "\n",
    "The `standard_env()` function builds and returns an `Environment` loaded\n",
    "with predefined functions, similar to Python's `__builtins__` module that is always available."
   ]
  },
  {
   "cell_type": "code",
   "execution_count": null,
   "id": "a90ce06f",
   "metadata": {},
   "outputs": [],
   "source": [
    "def standard_env() -> Environment:\n",
    "    \"An environment with some Scheme standard procedures.\"\n",
    "    env: Environment = {}\n",
    "    env.update(vars(math))   # sin, cos, sqrt, pi, ...\n",
    "    env.update(\n",
    "        {\n",
    "            '+': op.add,\n",
    "            '-': op.sub,\n",
    "            '*': op.mul,\n",
    "            '/': op.truediv,\n",
    "            '>': op.gt,\n",
    "            '<': op.lt,\n",
    "            '>=': op.ge,\n",
    "            '<=': op.le,\n",
    "            '=': op.eq,\n",
    "            'abs': abs,\n",
    "            'append': op.add,\n",
    "            'apply': lambda proc, args: proc(*args),\n",
    "            'begin': lambda *x: x[-1],\n",
    "            'car': lambda x: x[0],\n",
    "            'cdr': lambda x: x[1:],\n",
    "            'cons': lambda x, y: [x] + y,\n",
    "            'eq?': op.is_,\n",
    "            'equal?': op.eq,\n",
    "            'length': len,\n",
    "            'list': lambda *x: list(x),\n",
    "            'list?': lambda x: isinstance(x, list),\n",
    "            'map': lambda *args: list(map(*args)),\n",
    "            'max': max,\n",
    "            'min': min,\n",
    "            'not': op.not_,\n",
    "            'null?': lambda x: x == [],\n",
    "            'number?': lambda x: isinstance(x, (int, float)),\n",
    "            'procedure?': callable,\n",
    "            'round': round,\n",
    "            'symbol?': lambda x: isinstance(x, Symbol),\n",
    "        }\n",
    "    )\n",
    "    return env"
   ]
  },
  {
   "cell_type": "markdown",
   "id": "d2b3884a",
   "metadata": {},
   "source": [
    "The `env` mapping is loaded with:\n",
    "\n",
    "* all functions from Python's `math` module;\n",
    "* selected operators from Python's `op` module;\n",
    "* simple but powerful functions built with Python's `lambda`;\n",
    "* Python built-ins renamed like `callable` as `procedure?` or directly mapped like `round`."
   ]
  },
  {
   "cell_type": "markdown",
   "id": "ef2a871e",
   "metadata": {},
   "source": [
    "## A Calculator\n",
    "\n",
    "This first version of `evaluate` handles expressions using built-in functions and user-defined variables.\n"
   ]
  },
  {
   "cell_type": "code",
   "execution_count": null,
   "id": "cb1b716e",
   "metadata": {},
   "outputs": [],
   "source": [
    "def evaluate(x: Expression, env: Environment) -> Any:\n",
    "    \"Evaluate an expression in an environment.\"\n",
    "    if isinstance(x, str):                       # variable reference\n",
    "        return env[x]\n",
    "    elif not isinstance(x, list):                # constant literal\n",
    "        return x\n",
    "    elif x[0] == 'define':                       # (define var exp)\n",
    "        (_, var, exp) = x\n",
    "        env[var] = evaluate(exp, env)\n",
    "    else:                                        # (proc arg...)\n",
    "        proc = evaluate(x[0], env)\n",
    "        args = (evaluate(exp, env) for exp in x[1:])\n",
    "        return proc(*args)"
   ]
  },
  {
   "cell_type": "code",
   "execution_count": null,
   "id": "3f52d42e",
   "metadata": {},
   "outputs": [],
   "source": [
    "evaluate(parse('(* 11111 11111)'), standard_env())"
   ]
  },
  {
   "cell_type": "code",
   "execution_count": null,
   "id": "b9ec4d5f",
   "metadata": {},
   "outputs": [],
   "source": [
    "evaluate(parse('(* (/ 123 876) 100)'), standard_env())\n"
   ]
  },
  {
   "cell_type": "markdown",
   "id": "dd428f83",
   "metadata": {},
   "source": [
    "## Non-interactive execution\n",
    "\n",
    "The following functions take Scheme source code as a string and execute it."
   ]
  },
  {
   "cell_type": "code",
   "execution_count": null,
   "id": "e8ceba06",
   "metadata": {},
   "outputs": [],
   "source": [
    "def run_lines(source: str, env: Optional[Environment] = None) -> Iterator[Any]:\n",
    "    global_env: Environment = ChainMap({}, standard_env())\n",
    "    if env is not None:\n",
    "        global_env.update(env)\n",
    "    tokens = tokenize(source)\n",
    "    while tokens:\n",
    "        exp = read_from_tokens(tokens)\n",
    "        yield evaluate(exp, global_env)\n",
    "\n",
    "\n",
    "def run(source: str, env: Optional[Environment] = None) -> Any:\n",
    "    for result in run_lines(source, env):\n",
    "        pass\n",
    "    return result"
   ]
  },
  {
   "cell_type": "markdown",
   "id": "05497541",
   "metadata": {},
   "source": [
    "We can't define functions yet, only variables. But `run` makes it easier to experiment:"
   ]
  },
  {
   "cell_type": "code",
   "execution_count": null,
   "id": "ebe534e1",
   "metadata": {},
   "outputs": [],
   "source": [
    "percentage = \"\"\"\n",
    "(define a 126)\n",
    "(define b (* 6 50))\n",
    "(* (/ a b) 100)\n",
    "\"\"\"\n",
    "run(percentage)"
   ]
  },
  {
   "cell_type": "markdown",
   "id": "13c21922",
   "metadata": {},
   "source": [
    "### Exercise 1\n",
    "\n",
    "This is the formula to convert temperatures from Celsius to Fahrenheit:\n",
    "\n",
    "`f = (9 / 5) * c + 32`\n",
    "\n",
    "Here is the code to convert 20°C to °F:"
   ]
  },
  {
   "cell_type": "code",
   "execution_count": null,
   "id": "ebaa88ba",
   "metadata": {},
   "outputs": [],
   "source": [
    "c_to_f = \"\"\"\n",
    "(define c 20)\n",
    "(+ 32 (* c (/ 9 5)))\n",
    "\"\"\"\n",
    "run(c_to_f)"
   ]
  },
  {
   "cell_type": "markdown",
   "id": "8f7682f4",
   "metadata": {},
   "source": [
    "The inverse conversion function is:\n",
    "\n",
    "`c = (f − 32) * 5 / 9`\n",
    "\n",
    "In the code below, replace `(+ 1 2)` with the expression to convert 68°F to °C."
   ]
  },
  {
   "cell_type": "code",
   "execution_count": null,
   "id": "16d48908",
   "metadata": {},
   "outputs": [],
   "source": [
    "f_to_c = \"\"\"\n",
    "(define f 68)\n",
    "(+ 1 2)\n",
    "\"\"\"\n",
    "run(f_to_c)"
   ]
  },
  {
   "cell_type": "markdown",
   "id": "ada4cdeb",
   "metadata": {},
   "source": [
    "### Exercise 2\n",
    "\n",
    "Python's `math` module includes a `factorial` function, which is part of the environment returned by `standard_env`:"
   ]
  },
  {
   "cell_type": "code",
   "execution_count": null,
   "id": "c2509e45",
   "metadata": {},
   "outputs": [],
   "source": [
    "run('(factorial 10)')"
   ]
  },
  {
   "cell_type": "markdown",
   "id": "e93984ea",
   "metadata": {},
   "source": [
    "Scheme accepts `!` as an identifier. Your task is to make Python's `factorial` available through the `!` symbol in Scheme.\n",
    "\n",
    "**Step 2.1** Uncomment the expression below and run it to see an error. Look at the last line of the error output. What is the error? Do you understand why that is the error?"
   ]
  },
  {
   "cell_type": "code",
   "execution_count": null,
   "id": "6e9d40f9",
   "metadata": {},
   "outputs": [],
   "source": [
    "# run('(! 10)') == 3628800"
   ]
  },
  {
   "cell_type": "markdown",
   "id": "0b2493e6",
   "metadata": {},
   "source": [
    "**Step 2.2.** Edit the `standard_env` function above to add an entry for `!`,\n",
    "mapping to Python's `math.factorial` function.\n",
    "\n",
    "**Step 2.3.** Run the expression above to confirm that the result is `True`.\n"
   ]
  },
  {
   "cell_type": "markdown",
   "id": "ef82c502",
   "metadata": {},
   "source": [
    "### Exercise 3\n",
    "\n",
    "In standard Scheme, the `+` operator is variadic, i.e. it accepts any number of arguments.\n",
    "With 0 arguments, `(+)` returns `0`; otherwise it returns the sum of all arguments.\n",
    "\n",
    "**Step 3.1.** Uncomment the expression below and run it to see an error. Does the error make sense to you?"
   ]
  },
  {
   "cell_type": "code",
   "execution_count": null,
   "id": "66ae240b",
   "metadata": {},
   "outputs": [],
   "source": [
    "# run('(= 10 (+ 1 2 3 4))')"
   ]
  },
  {
   "cell_type": "markdown",
   "id": "914a62cf",
   "metadata": {},
   "source": [
    "**Step 3.2.** Edit the `standard_env` function above to re-implement `+` to make the expression above return `True`.\n",
    "\n",
    "> **HINT 3.2.1**: below is a variadic version of Python's `sum`:\n"
   ]
  },
  {
   "cell_type": "code",
   "execution_count": null,
   "id": "9138b4a6",
   "metadata": {},
   "outputs": [],
   "source": [
    "def variadic_sum(*args):\n",
    "    return sum(args)\n",
    "\n",
    "variadic_sum(1, 2, 3, 4)"
   ]
  },
  {
   "cell_type": "markdown",
   "id": "71f39dc3",
   "metadata": {},
   "source": [
    "> **HINT 3.2.2**: the same function in a single line of Python, followed by a demonstration:"
   ]
  },
  {
   "cell_type": "code",
   "execution_count": null,
   "id": "928b1e31",
   "metadata": {},
   "outputs": [],
   "source": [
    "f = lambda *args: sum(args)\n",
    "f(1, 2, 3, 4)"
   ]
  },
  {
   "cell_type": "markdown",
   "id": "87d2b5a2",
   "metadata": {},
   "source": [
    "## The REPL\n",
    "\n",
    "Norvig's REPL (Read-Eval-Print-Loop) is easy to undersand but not user-friendly.\n",
    "If no command-line arguments are given to _lis.py_,\n",
    "the `repl()` function is invoked by `main()`—defined at the end of the module.\n",
    "At the `lis.py>` prompt we must enter correct and complete expressions—if\n",
    "we forget to close one parenthesis, _lis.py_ crashes.\n",
    "\n",
    "> **NOTE**: As I studied Norvig's _lis.py_ and _lispy.py_, I started a fork named\n",
    "  [`mylis`](https://github.com/fluentpython/lispy/blob/main/mylis)\n",
    "  which adds some features, including a REPL that accepts partial S-expressions\n",
    "  and prompts for the continuation, similar to how Python's REPL\n",
    "  knows we are not finished and presents the secondary prompt `...` until\n",
    "  we enter a complete expression or statement that can be evaluated.\n",
    "  `mylis` also handles a few errors gracefully, but it's still easy to crash.\n"
   ]
  },
  {
   "cell_type": "code",
   "execution_count": null,
   "id": "984279f4",
   "metadata": {},
   "outputs": [],
   "source": [
    "def repl(prompt: str = 'lis.py> ') -> NoReturn:\n",
    "    \"A prompt-read-evaluate-print loop.\"\n",
    "    global_env: Environment = standard_env()\n",
    "    while True:\n",
    "        val = evaluate(parse(input(prompt)), global_env)\n",
    "        if val is not None:\n",
    "            print(lispstr(val))\n",
    "\n",
    "\n",
    "def lispstr(exp: object) -> str:\n",
    "    \"Convert a Python object back into a Lisp-readable string.\"\n",
    "    if isinstance(exp, list):\n",
    "        return '(' + ' '.join(map(lispstr, exp)) + ')'\n",
    "    else:\n",
    "        return str(exp)"
   ]
  },
  {
   "cell_type": "markdown",
   "id": "c516212d",
   "metadata": {},
   "source": [
    "Function `repl` calls `standard_env()` to provide built-in functions for the global environment,\n",
    "then enters an infinite loop reading and parsing each input line,\n",
    "evaluating it in the global environment and displaying the result—unless it's `None`.\n",
    "The `global_env` may be modified by `evaluate`.\n",
    "\n",
    "`lispstr` is the inverse function of `parse`:\n",
    "given a Python object representing an expression,\n",
    "`parse` returns the Scheme source code for it.\n",
    "For example, given `['+', 2, 3]`, the result is `'(+ 2 3)'`."
   ]
  }
 ],
 "metadata": {
  "kernelspec": {
   "display_name": "Python 3 (ipykernel)",
   "language": "python",
   "name": "python3"
  },
  "language_info": {
   "codemirror_mode": {
    "name": "ipython",
    "version": 3
   },
   "file_extension": ".py",
   "mimetype": "text/x-python",
   "name": "python",
   "nbconvert_exporter": "python",
   "pygments_lexer": "ipython3",
   "version": "3.9.5"
  }
 },
 "nbformat": 4,
 "nbformat_minor": 5
}
