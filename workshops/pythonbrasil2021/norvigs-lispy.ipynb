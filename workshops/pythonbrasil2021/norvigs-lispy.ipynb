{
 "cells": [
  {
   "cell_type": "markdown",
   "id": "190cf857",
   "metadata": {},
   "source": [
    "# O `lis.py` de Norvig\n",
    "\n",
    "\n",
    "![Norvig's lispy](lispy.png)"
   ]
  },
  {
   "cell_type": "markdown",
   "id": "85e679f6",
   "metadata": {},
   "source": [
    "Contents:\n",
    "\n",
    "* [Introdução](#Introdução)\n",
    "* [Sintaxe de Scheme](#Sintaxe-de-Scheme)\n",
    "* [Imports e tipos](#Imports-e-tipos)\n",
    "* [O parser](#O-parser)\n",
    "  * [Exercise 0](#Exercise-0)\n",
    "* [Ambiente básico para aritmética](#Ambiente-básico-para-aritmética)\n",
    "* [A Calculator](#A-Calculator)\n",
    "* [Non-interactive execution](#Non-interactive-execution)\n",
    "  * [Exercise 1](#Exercise-1)\n",
    "  * [Exercise 2](#Exercise-2)\n",
    "* [User defined procedures](#User-defined-procedures)\n",
    "* [A more complete environment](#A-more-complete-environment)\n",
    "* [`Procedure`: a class to represent a closure](#Procedure:-a-class-to-represent-a-closure)\n",
    "* [Evaluate with `lambda`, `if`, and `quote`](#Evaluate-with-lambda,-if,-and-quote)\n",
    "* [The REPL](#The-REPL)\n",
    "* [Exemplos](#Exemplos)\n",
    "* [Syntactic sugar](#Syntactic-sugar)\n",
    "\n",
    "> **LICENSES**:<br>\n",
    "  Code © 2010-2018 Peter Norvig, [MIT License](https://github.com/fluentpython/lispy/blob/main/LICENSE)<br>\n",
    "  Text © 2022 Luciano Ramalho, [Creative Commons Attribution 4.0 International](https://creativecommons.org/licenses/by/4.0/)\n"
   ]
  },
  {
   "cell_type": "markdown",
   "id": "22bbd8aa",
   "metadata": {},
   "source": [
    "## Introdução\n",
    "\n",
    "[Peter Norvig](https://norvig.com/) da universidade Stanford criou\n",
    "[`lis.py`](https://github.com/norvig/pytudes/blob/main/py/lis.py):\n",
    "um interpretador em 132 linhas de código Python legível,\n",
    "para parte da linguagem Scheme—um dialeto de Lisp.\n",
    "\n",
    "Porque você deveria estudar `lis.py`?\n",
    "Para mim esses foram alguns motivos:\n",
    "\n",
    "* Depeois de aprender como funciona um interpretador,\n",
    "passei a entender com mais profundidade como funciona a Python e linguagens em geral—interpretadas ou compiladas.\n",
    "\n",
    "* A simplicidade de Scheme é uma aula magna de design de linguagens;\n",
    "\n",
    "* `lis.py` é um lindo exemplo de código Python idiomático.\n",
    "\n",
    "Norvig descreve `lis.py` em um texto intitulado.\n",
    "[(How to Write a (Lisp) Interpreter (in Python))](https://norvig.com/lispy.html). Altamente recomendado.\n",
    "\n",
    "Antes de examinar o código do interpretador em Python, vamos ver um pouco de Scheme—caso você nunca tenha visto essa linguagem ou Lisp anteriormente."
   ]
  },
  {
   "cell_type": "markdown",
   "id": "37f106aa",
   "metadata": {},
   "source": [
    "## Sintaxe de Scheme\n",
    "\n",
    "Todo código Scheme é formado por expressões.\n",
    "Não existem operadores infixos:\n",
    "todas as expressões usam notação prefixa como\n",
    "`(+ x 13)` em vez de `x + 13`.\n",
    "A mesma notação prefixa é usada para chamadas de funções—ex. `(gcd x 13)`—e\n",
    "instruções especiais—ex. `(define x 13)`, que corresponde à\n",
    "instrução de atribuição em Python: `x = 13`.\n",
    "\n",
    "A notação usada em Scheme e na maioria dos dialetos de Lisp (como Clojure) é chamada de _S-expression_ ou _expressão-S_.\n",
    "\n",
    "Eis um exemplo simples em Scheme, para calcular o máximo divisor comum:\n",
    "\n",
    "\n",
    "```lisp\n",
    "(define (resto m n)\n",
    "    (- m (* n (quotient m n))))\n",
    "\n",
    "(define (mdc m n)\n",
    "    (if (= n 0)\n",
    "        m\n",
    "        (mdc n (resto m n))))\n",
    "\n",
    "(display (mdc 18 45))\n",
    "```"
   ]
  },
  {
   "cell_type": "markdown",
   "id": "1a104c3c",
   "metadata": {},
   "source": [
    "O mesmo algoritmo em Python:"
   ]
  },
  {
   "cell_type": "code",
   "execution_count": null,
   "id": "18ae67f8",
   "metadata": {},
   "outputs": [],
   "source": [
    "def resto(m, n):\n",
    "    return m - (m // n * n)\n",
    "\n",
    "def mdc(m, n):\n",
    "    if n == 0:\n",
    "        return m\n",
    "    else:\n",
    "        return mdc(n, resto(m, n))\n",
    "\n",
    "print(mdc(18, 45))"
   ]
  },
  {
   "cell_type": "markdown",
   "id": "94c208d0",
   "metadata": {},
   "source": [
    "> **DICA**: Clique na célua acima para selecioná-la, então tecle `【CTRL】【ENTER】` para executá-la.\n",
    "<br>O resultado aparecerá abaixo da célula.\n",
    "\n",
    "Scheme não tem estruturas de laço como `while` ou `for`.\n",
    "Iteração é feita através de recursão.\n",
    "Note como não há atribuições nos exemplos em Scheme ou Python acima.\n",
    "O uso extensivo de recursão e o uso reduzido de atribuição\n",
    "são duas características típicas de programação em um estilo funcional.\n",
    "\n",
    "Em Python idiomático eu usaria o operador `%` em vez de reinventar `resto`,\n",
    "e seria mais eficiente usar um laço `while` do que recursão.\n",
    "Mas eu queria mostrar duas definições de funções, e\n",
    "que os exemplos ficassem parecidos para ajudar você a ler o código em Scheme.\n",
    "\n",
    "Agora vamos estudar o código de uma versão de `lis.py` para Python 3.7.\n",
    "O código completo com testes para Python 3.10 você pode encontrar no diretório\n",
    "[18-with-match/lispy/py3.10/](https://github.com/fluentpython/example-code-2e/tree/master/18-with-match/lispy/py3.10/)\n",
    "do repositório [fluentpython/example-code-2e](https://github.com/fluentpython/example-code-2e)."
   ]
  },
  {
   "cell_type": "markdown",
   "id": "d949cebf",
   "metadata": {
    "tags": []
   },
   "source": [
    "## Imports e tipos\n",
    "\n",
    "O código escrito pelo Norvig não usa anotações de tipo, adicionei as anotações e fiz mais algumas pequenas mudanças.\n",
    "\n",
    "Esse notebook usa Python 3.7 para rodar no [Binder](https://mybinder.org/), portanto precisamos importar alguns tipos de coleções do módulo `typing`.\n",
    "\n",
    "> **DICA**: Clique na célula abaixo para selecioná-la e então aperte `【SHIFT】【ENTER】` para executá-la e selecionar a próxima célula.<br>Use `【CTRL】【ENTER】` para executar a célula e manter ela selecionada.<br>Use esses comandos para executar as células conforme você segue."
   ]
  },
  {
   "cell_type": "code",
   "execution_count": null,
   "id": "44bfb45c",
   "metadata": {},
   "outputs": [],
   "source": [
    "import sys\n",
    "assert sys.version_info >= (3, 7), f'Esperado Python ≥ 3.7; instalado: {sys.version}'\n",
    "sys.version"
   ]
  },
  {
   "cell_type": "code",
   "execution_count": null,
   "id": "04726bd5",
   "metadata": {},
   "outputs": [],
   "source": [
    "################ lis.py: Scheme Interpreter in Python 3.10\n",
    "## (c) Peter Norvig, 2010-18; See http://norvig.com/lispy.html\n",
    "## Type hints and minor additions by Luciano Ramalho\n",
    "\n",
    "import math\n",
    "import operator as op\n",
    "from collections import ChainMap\n",
    "from itertools import chain\n",
    "from typing import Any, NoReturn\n",
    "from typing import Union, List, MutableMapping, Optional, Iterator\n",
    "\n",
    "Symbol = str\n",
    "Atom = Union[float, int, Symbol]\n",
    "Expression = Union[Atom, List]\n",
    "\n",
    "Environment = MutableMapping[Symbol, object]"
   ]
  },
  {
   "cell_type": "markdown",
   "id": "9039c566",
   "metadata": {},
   "source": [
    "Os tipos são definidos são:\n",
    "\n",
    "`Symbol`: Apenas um apelido para o tipo `str`.\n",
    "Em _list.py_, instâncias de `Symbol` são usadas como identificadores;\n",
    "não há um tipo string com operaçoẽs como fatiamento, particionamento com `split` etc.\n",
    "\n",
    "`Atom`: Elemento sintático simples: um número ou um `Symbol`.\n",
    "Um átomo é o contrário de uma estrutura composta de diversas partes como uma lista.\n",
    "\n",
    "`Expression`: Programas em Scheme são formados por expressões feitas com átomos e listas, possivelmente aninhadas.\n",
    "\n",
    "> **NOTA**: O segundo interpretador escrito por Norvig,\n",
    "[`lispy.py`](https://github.com/fluentpython/example-code-2e/blob/master/18-with-match/lispy/original/lispy.py),\n",
    "suporta string como um tipo de dado, assim como também aceita funcionalidades avançadas como macros de sintaxe,\n",
    "chamadas de cauda eficientes e _continuations_.\n",
    "No entanto, `lispy.py` é quase três vezes mais longo do que `lis.py`, e mais difícil de entender."
   ]
  },
  {
   "cell_type": "markdown",
   "id": "3ac6a3cc",
   "metadata": {},
   "source": [
    "## O parser\n",
    "\n",
    "O parser de Norvig são 36 linhas de código que demonstram o poder de Python aplicado ao manuseio de\n",
    "sintaxes recursivas simples de S-expression—sem strings como dados,\n",
    "comentários, macros, e outros recursos de Scheme padrão que complicam a análise sintática (esses recursos são implementadas em `lispy.py`)."
   ]
  },
  {
   "cell_type": "code",
   "execution_count": null,
   "id": "e08f52d5",
   "metadata": {},
   "outputs": [],
   "source": [
    "def parse(program: str) -> Expression:\n",
    "    \"Read a Scheme expression from a string.\"\n",
    "    return read_from_tokens(tokenize(program))\n",
    "\n",
    "def tokenize(s: str) -> List[str]:\n",
    "    \"Convert a string into a list of tokens.\"\n",
    "    return s.replace('(', ' ( ').replace(')', ' ) ').split()\n",
    "\n",
    "def read_from_tokens(tokens: List[str]) -> Expression:\n",
    "    \"Read an expression from a sequence of tokens.\"\n",
    "    if len(tokens) == 0:\n",
    "        raise SyntaxError('unexpected EOF while reading')\n",
    "    token = tokens.pop(0)\n",
    "    if '(' == token:\n",
    "        exp = []\n",
    "        while tokens[0] != ')':\n",
    "            exp.append(read_from_tokens(tokens))\n",
    "        tokens.pop(0)  # discard ')'\n",
    "        return exp\n",
    "    elif ')' == token:\n",
    "        raise SyntaxError('unexpected )')\n",
    "    else:\n",
    "        return parse_atom(token)\n",
    "\n",
    "def parse_atom(token: str) -> Atom:\n",
    "    \"Numbers become numbers; every other token is a symbol.\"\n",
    "    try:\n",
    "        return int(token)\n",
    "    except ValueError:\n",
    "        try:\n",
    "            return float(token)\n",
    "        except ValueError:\n",
    "            return Symbol(token)"
   ]
  },
  {
   "cell_type": "markdown",
   "id": "b4d7ef27",
   "metadata": {},
   "source": [
    "A função principal desse grupo é `parse`, que toma uma S-expression como uma `str`\n",
    "e devolve um objeto `Expression`: um `Atom` ou `list` que pode conter mais átomos e listas aninhadas.\n",
    "\n",
    "Norvig usa um truque inteligente em `tokenize`:\n",
    "ele adiciona espaços antes e depois de cada parênteses no input e depois divide,\n",
    "resultando em uma lista de tokens sintáticos com `(` e `)`\n",
    "como tokens distintos.\n",
    "Esse atalho funciona porque não existe um tipo de string no pequeno Scheme do _lis.py_, então todo `(` ou `)` é um delimitador de expressão.\n",
    "O código parsing recursivo está em `read_from_tokens`.\n",
    "Eu não vou explicar isso agora porque quero focar nas outras parter do interpretador.\n",
    "\n",
    "Abaixo, estão alguns exemplos do nível mais alto da função `parse`.\n",
    "\n",
    "> **DICA**: Para executar o código em cada uma das células e selecionar a próxima, use `【SHIFT】【ENTER】`.<br>\n",
    "Se acontecer `NameError: name 'parse' is not defined`, use o comando ***Cell > Run All Above*** do menu para executar as células acima, incluindo aquela onde está a definição da função `parse`."
   ]
  },
  {
   "cell_type": "code",
   "execution_count": null,
   "id": "e66f5987",
   "metadata": {},
   "outputs": [],
   "source": [
    "parse('1.5')"
   ]
  },
  {
   "cell_type": "code",
   "execution_count": null,
   "id": "6741dca0",
   "metadata": {},
   "outputs": [],
   "source": [
    "parse('ni!')"
   ]
  },
  {
   "cell_type": "code",
   "execution_count": null,
   "id": "04928287",
   "metadata": {},
   "outputs": [],
   "source": [
    "parse('''\n",
    "  (define double\n",
    "    (lambda (n)\n",
    "      (* n 2)))\n",
    "''')"
   ]
  },
  {
   "cell_type": "markdown",
   "id": "7be12432",
   "metadata": {},
   "source": [
    "As regras do parsing para esse subconjunto do Scheme são simples:\n",
    "\n",
    "1. Um token que se parece com um número é parseado como um `float` ou `int`.\n",
    "2. Qualquer outra coisa que não for `(` ou `)` é parseado como um `Symbol` - uma `str` a ser usada como identificador. Isso inclui texto fonte como `+`. `set` e `make-counter` que são identificadores válidos em Scheme mas não em Python.\n",
    "3. Expressões dentro de `(` e `)` são recursivamente parseadas como listas contendo atoms ou listas aninhadas que podem conter atoms e mais listas aninhadas.\n",
    "\n",
    "Usando terminologia do interpretador Python, a saída de `parse` é uma **AST** (Abstract Syntax Tree ou Árvore de Sintaxe Abstrata):\n",
    "uma representação conveniente do programa Scheme como listas aninhadas formando uma estrutura em forma de árvore,\n",
    "onde a lista mais exterior é o tronco, as listas interiores são os ramos e atoms são as folhas.\n",
    "\n",
    "Veja a AST do exemplo `(define double (lambda (n) (* n 2)))` como um diagrama em árvore:\n",
    "\n",
    "```\n",
    "                              '*'  'n'   2\n",
    "                        'n'    └────┼────┘\n",
    "                         │          │\n",
    "           'lambda'     [ ]        [ ]\n",
    "               └─────────┼──────────┘\n",
    "                         │\n",
    "'define'   'double'     [ ]\n",
    "    └─────────┼──────────┘\n",
    "              │\n",
    "             [ ]\n",
    "```\n",
    "\n",
    "### Exercício 0\n",
    "\n",
    "Substitua a elipse `...` com a AST para a S-expression dada, para fazer a comparação ser `True`.\n",
    "Para rodar o código na célula, aperte `【CTRL】【ENTER】`."
   ]
  },
  {
   "cell_type": "code",
   "execution_count": null,
   "id": "d7b6f438",
   "metadata": {},
   "outputs": [],
   "source": [
    "parse('9') == ..."
   ]
  },
  {
   "cell_type": "code",
   "execution_count": null,
   "id": "fe4139bd",
   "metadata": {},
   "outputs": [],
   "source": [
    "parse('x/y') == ..."
   ]
  },
  {
   "cell_type": "code",
   "execution_count": null,
   "id": "c3d63f21",
   "metadata": {},
   "outputs": [],
   "source": [
    "parse('(+ 3 7)') == ..."
   ]
  },
  {
   "cell_type": "code",
   "execution_count": null,
   "id": "0becfbba",
   "metadata": {},
   "outputs": [],
   "source": [
    "parse('(* c (/ 9 5))') == ..."
   ]
  },
  {
   "cell_type": "code",
   "execution_count": null,
   "id": "998fee5f",
   "metadata": {},
   "outputs": [],
   "source": [
    "parse('(+ 32 (* (/ 9 5) c ))') == ..."
   ]
  },
  {
   "cell_type": "markdown",
   "id": "5a0e1e75",
   "metadata": {},
   "source": [
    "## Ambiente básico para aritmética\n",
    "\n",
    "A função `standard_env()` constrói e devolve um `Environment` carregado\n",
    "com funções pré definidas, similar ao módulo `__builtins__` do Python que está sempre disponível."
   ]
  },
  {
   "cell_type": "code",
   "execution_count": null,
   "id": "05b20eee",
   "metadata": {},
   "outputs": [],
   "source": [
    "def standard_env() -> Environment:\n",
    "    \"An environment for an s-expression calculator.\"\n",
    "    env: Environment = {}\n",
    "    env.update(vars(math))   # sin, cos, sqrt, pi, ...\n",
    "    env.update(\n",
    "        {\n",
    "            '+': op.add,\n",
    "            '-': op.sub,\n",
    "            '*': op.mul,\n",
    "            '/': op.truediv,\n",
    "            'quotient': op.floordiv,\n",
    "            '>': op.gt,\n",
    "            '<': op.lt,\n",
    "            '>=': op.ge,\n",
    "            '<=': op.le,\n",
    "            '=': op.eq,\n",
    "            'abs': abs,\n",
    "            'begin': lambda *x: x[-1],\n",
    "            'eq?': op.is_,\n",
    "            'equal?': op.eq,\n",
    "            'max': max,\n",
    "            'min': min,\n",
    "            'not': op.not_,\n",
    "            'number?': lambda x: isinstance(x, (int, float)),\n",
    "            'procedure?': callable,\n",
    "            'round': round,\n",
    "            'symbol?': lambda x: isinstance(x, Symbol),\n",
    "        }\n",
    "    )\n",
    "    return env"
   ]
  },
  {
   "cell_type": "markdown",
   "id": "30b96be9",
   "metadata": {},
   "source": [
    "O mapeamento `env` é carregado com:\n",
    "\n",
    "* todas as funções do módulo `math` do Python;\n",
    "* operadores selecionados do módulo `op` do Python;\n",
    "* simples mas poderosas funções construídas com `lambda` do Python;\n",
    "* built-ins do Python renomeados, por exemplo `callable` como `procedure` ou diretamente mapeados como `round`."
   ]
  },
  {
   "cell_type": "markdown",
   "id": "3abcd2fa",
   "metadata": {},
   "source": [
    "## A Calculator\n",
    "\n",
    "This first version of `evaluate` handles expressions using built-in functions and user-defined variables.\n",
    "\n",
    "> **NOTE**: Norvig's parser is simple and solid, but his evaluator is simple and fragile. He ommited error checking to keep the logic easy to follow. In his words: \"Lispy does not attempt to detect, reasonably report, or recover from errors. Lispy expects the programmer to be perfect.\" ([source](https://norvig.com/lispy.html)).\n"
   ]
  },
  {
   "cell_type": "code",
   "execution_count": null,
   "id": "561e97c1",
   "metadata": {},
   "outputs": [],
   "source": [
    "def evaluate(x: Expression, env: Environment) -> Any:\n",
    "    \"Evaluate an expression in an environment.\"\n",
    "    if isinstance(x, Symbol):                    # variable reference\n",
    "        return env[x]\n",
    "    elif not isinstance(x, list):                # constant literal\n",
    "        return x\n",
    "    elif x[0] == 'define':                       # (define var exp)\n",
    "        _, var, exp = x\n",
    "        env[var] = evaluate(exp, env)\n",
    "    else:                                        # (proc arg...)\n",
    "        proc_exp, *args = x\n",
    "        proc = evaluate(proc_exp, env)\n",
    "        arg_values = [evaluate(exp, env) for exp in args]\n",
    "        return proc(*arg_values)"
   ]
  },
  {
   "cell_type": "markdown",
   "id": "a403e2b5",
   "metadata": {},
   "source": [
    "Run these examples to see `evaluate` in action.\n",
    "\n",
    "A curious square:"
   ]
  },
  {
   "cell_type": "code",
   "execution_count": null,
   "id": "c5566f94",
   "metadata": {},
   "outputs": [],
   "source": [
    "evaluate(parse('(* 11111 11111)'), standard_env())"
   ]
  },
  {
   "cell_type": "markdown",
   "id": "3ab737c7",
   "metadata": {},
   "source": [
    "If there are 876 candidates, and 123 were approved, what percentage was approved?"
   ]
  },
  {
   "cell_type": "code",
   "execution_count": null,
   "id": "a3391572",
   "metadata": {},
   "outputs": [],
   "source": [
    "evaluate(parse('(* (/ 123 876) 100)'), standard_env())"
   ]
  },
  {
   "cell_type": "markdown",
   "id": "daacd4a6",
   "metadata": {},
   "source": [
    "Now let's study each part of the `if/elif/…` in `evaluate`."
   ]
  },
  {
   "cell_type": "markdown",
   "id": "b7ed0e02",
   "metadata": {},
   "source": [
    "### Evaluate symbol\n",
    "\n",
    "```python\n",
    "    if isinstance(x, Symbol):\n",
    "        return env[x]\n",
    "```\n",
    "\n",
    "If the expression is a `Symbol`, then look it up in the environment.\n",
    "\n"
   ]
  },
  {
   "cell_type": "code",
   "execution_count": null,
   "id": "ed0dea6d",
   "metadata": {},
   "outputs": [],
   "source": [
    "evaluate('pi', standard_env())"
   ]
  },
  {
   "cell_type": "code",
   "execution_count": null,
   "id": "6850678a",
   "metadata": {},
   "outputs": [],
   "source": [
    "evaluate('+', standard_env())"
   ]
  },
  {
   "cell_type": "markdown",
   "id": "714abb46",
   "metadata": {},
   "source": [
    "### Evaluate other atoms\n",
    "\n",
    "```python\n",
    "    elif not isinstance(x, list):\n",
    "        return x\n",
    "```\n",
    "\n",
    "If the expression is not a `list` and not a `Symbol` (because of the preceding check), then assume it is a constant literal and return it as is."
   ]
  },
  {
   "cell_type": "code",
   "execution_count": null,
   "id": "b5290245",
   "metadata": {},
   "outputs": [],
   "source": [
    "evaluate(1.5, standard_env())"
   ]
  },
  {
   "cell_type": "markdown",
   "id": "df20673b",
   "metadata": {},
   "source": [
    "### Evaluate `(define var exp)`\n",
    "\n",
    "```python\n",
    "    elif x[0] == 'define':\n",
    "        _, var, exp = x\n",
    "        env[var] = evaluate(exp, env)\n",
    "```\n",
    "\n",
    "If the expression is a `list` starting with the keyword `define`, then it should be followed by a `Symbol` and an `Expression`. Recursively evaluate the expression in environment, and store it in `env` using the `Symbol` as key."
   ]
  },
  {
   "cell_type": "code",
   "execution_count": null,
   "id": "db3e67be",
   "metadata": {},
   "outputs": [],
   "source": [
    "env = standard_env()\n",
    "evaluate(parse('(define answer (* 7 6))'), env)\n",
    "env['answer']"
   ]
  },
  {
   "cell_type": "markdown",
   "id": "7348fd08",
   "metadata": {},
   "source": [
    "### Evaluate function call `(proc arg…)`\n",
    "\n",
    "```python\n",
    "    else:\n",
    "        proc_exp, *args = x\n",
    "        proc = evaluate(proc_exp, env)\n",
    "        arg_values = [evaluate(exp, env) for exp in args]\n",
    "        return proc(*arg_values)\n",
    "```\n",
    "\n",
    "If the expression is a `list` that does not start with a keyword, then:\n",
    "\n",
    "1. Evaluate the first expression—it should return a procedure (a.k.a. function).\n",
    "2. Evaluate the remaining expressions (the argument values)\n",
    "3. Call the procedure with the argument values."
   ]
  },
  {
   "cell_type": "code",
   "execution_count": null,
   "id": "aa6060da",
   "metadata": {},
   "outputs": [],
   "source": [
    "evaluate(['quotient', 8, 3], standard_env())"
   ]
  },
  {
   "cell_type": "code",
   "execution_count": null,
   "id": "10bd59e4",
   "metadata": {},
   "outputs": [],
   "source": [
    "evaluate(['*', ['/', 123, 876], 100], standard_env())"
   ]
  },
  {
   "cell_type": "markdown",
   "id": "45b81cd7",
   "metadata": {},
   "source": [
    "`evaluate` can process deeply nested expressions, but only one expression at the top level. To bundle several expressions into one, use the `(begin ...)` function. All the arguments after `begin` are evaluated before `begin` is called, and `begin` returns the value of the last argument. For example:"
   ]
  },
  {
   "cell_type": "code",
   "execution_count": null,
   "id": "8d096b42",
   "metadata": {},
   "outputs": [],
   "source": [
    "env = standard_env()\n",
    "percent = \"\"\"\n",
    "(begin\n",
    "  (define a 126)\n",
    "  (define b (* 6 50))\n",
    "  (* (/ a b) 100)\n",
    ")\n",
    "\"\"\"\n",
    "evaluate(parse(percent), env)"
   ]
  },
  {
   "cell_type": "markdown",
   "id": "63e9dd7b",
   "metadata": {},
   "source": [
    "After the previous code, `env` now holds two variables: `a` and `b`."
   ]
  },
  {
   "cell_type": "code",
   "execution_count": null,
   "id": "12a9aa9e",
   "metadata": {},
   "outputs": [],
   "source": [
    "env['a'], env['b']"
   ]
  },
  {
   "cell_type": "markdown",
   "id": "a709602c",
   "metadata": {},
   "source": [
    "The `run()` function evaluates a string of one or more S-expressions as a program."
   ]
  },
  {
   "cell_type": "markdown",
   "id": "719aab8e",
   "metadata": {},
   "source": [
    "## Non-interactive execution with `run()`\n",
    "\n",
    "The following functions take Scheme source code as a string and execute it."
   ]
  },
  {
   "cell_type": "code",
   "execution_count": null,
   "id": "4f97bf18",
   "metadata": {},
   "outputs": [],
   "source": [
    "def run_lines(source: str, env: Optional[Environment] = None) -> Iterator[Any]:\n",
    "    global_env: Environment = ChainMap({}, standard_env())\n",
    "    if env is not None:\n",
    "        global_env.update(env)\n",
    "    tokens = tokenize(source)\n",
    "    while tokens:\n",
    "        exp = read_from_tokens(tokens)\n",
    "        yield evaluate(exp, global_env)\n",
    "\n",
    "\n",
    "def run(source: str, env: Optional[Environment] = None) -> Any:\n",
    "    for result in run_lines(source, env):\n",
    "        pass\n",
    "    return result"
   ]
  },
  {
   "cell_type": "markdown",
   "id": "8a3d643a",
   "metadata": {},
   "source": [
    "With `run()` we don't need `(begin …)` to evaluate several expressions—but `begin` is still useful in other situations."
   ]
  },
  {
   "cell_type": "code",
   "execution_count": null,
   "id": "919c3f6c",
   "metadata": {},
   "outputs": [],
   "source": [
    "percent = \"\"\"\n",
    "(define a 126)\n",
    "(define b (* 6 50))\n",
    "(* (/ a b) 100)\n",
    "\"\"\"\n",
    "run(percent)"
   ]
  },
  {
   "cell_type": "markdown",
   "id": "8461dddd",
   "metadata": {},
   "source": [
    "### Exercise 1\n",
    "\n",
    "This is the formula to convert temperatures from Celsius to Fahrenheit:\n",
    "\n",
    "`f = (9 / 5) * c + 32`\n",
    "\n",
    "Here is the code to convert 20°C to °F:"
   ]
  },
  {
   "cell_type": "code",
   "execution_count": null,
   "id": "c4d75dd9",
   "metadata": {},
   "outputs": [],
   "source": [
    "c_to_f = \"\"\"\n",
    "(define c 20)\n",
    "(+ 32 (* c (/ 9 5)))\n",
    "\"\"\"\n",
    "run(c_to_f)"
   ]
  },
  {
   "cell_type": "markdown",
   "id": "f5f61dfe",
   "metadata": {},
   "source": [
    "The inverse conversion function is:\n",
    "\n",
    "`c = (f − 32) * 5 / 9`\n",
    "\n",
    "In the code below, replace `(+ 1 2)` with the expression to convert 68°F to °C."
   ]
  },
  {
   "cell_type": "code",
   "execution_count": null,
   "id": "5421468c",
   "metadata": {},
   "outputs": [],
   "source": [
    "f_to_c = \"\"\"\n",
    "(define f 68)\n",
    "(+ 1 2)\n",
    "\"\"\"\n",
    "run(f_to_c)"
   ]
  },
  {
   "cell_type": "markdown",
   "id": "83530180",
   "metadata": {},
   "source": [
    "### Exercise 2\n",
    "\n",
    "Python's `math` module includes a `factorial` function, which is part of the environment returned by `standard_env`:"
   ]
  },
  {
   "cell_type": "code",
   "execution_count": null,
   "id": "e680fab0",
   "metadata": {},
   "outputs": [],
   "source": [
    "run('(factorial 10)')"
   ]
  },
  {
   "cell_type": "markdown",
   "id": "628aaebb",
   "metadata": {},
   "source": [
    "Scheme accepts `!` as an identifier. Your task is to make Python's `factorial` available through the `!` symbol in Scheme.\n",
    "\n",
    "**Step 2.1** Uncomment the expression below and run it to see an error. Look at the last line of the error output. What is the error? Do you understand why that is the error?"
   ]
  },
  {
   "cell_type": "code",
   "execution_count": null,
   "id": "2036c834",
   "metadata": {},
   "outputs": [],
   "source": [
    "# run('(! 10)') == 3628800"
   ]
  },
  {
   "cell_type": "markdown",
   "id": "6571e327",
   "metadata": {},
   "source": [
    "**Step 2.2.** Edit the `standard_env` function above to add an entry for `!`,\n",
    "mapping to Python's `math.factorial` function.\n",
    "\n",
    "**Step 2.3.** Run the expression above to confirm that the result is `True`.\n"
   ]
  },
  {
   "cell_type": "markdown",
   "id": "45da0b41",
   "metadata": {},
   "source": [
    "### Exercise 3\n",
    "\n",
    "In standard Scheme, the `+` operator is variadic, i.e. it accepts any number of arguments.\n",
    "With 0 arguments, `(+)` returns `0`; otherwise it returns the sum of all arguments.\n",
    "\n",
    "**Step 3.1.** Uncomment the expression below and run it to see an error. Does the error make sense to you?"
   ]
  },
  {
   "cell_type": "code",
   "execution_count": null,
   "id": "0b8cf0b2",
   "metadata": {},
   "outputs": [],
   "source": [
    "# run('(= 10 (+ 1 2 3 4))')"
   ]
  },
  {
   "cell_type": "markdown",
   "id": "f9f47e9d",
   "metadata": {},
   "source": [
    "**Step 3.2.** Edit the `standard_env` function above to re-implement `+` to make the expression above return `True`.\n",
    "\n",
    "> **HINT 3.2.1**: Hidden below is the source code for a variadic version of Python's `sum()`. Consider doing the exercise without revealing the hint. To reveal the code, uncomment the `print()` line and run the cell."
   ]
  },
  {
   "cell_type": "code",
   "execution_count": null,
   "id": "00c4f297",
   "metadata": {},
   "outputs": [],
   "source": [
    "from base64 import b64decode\n",
    "blob = (b'ZGVmIHZhcmlhZGljX3N1bSgqYXJncyk6CiAgICByZXR1cm4g'\n",
    "        b'c3VtKGFyZ3MpCgp2YXJpYWRpY19zdW0oMSwgMiwgMywgNCk=')\n",
    "# print(b64decode(blob).decode('utf8'))"
   ]
  },
  {
   "cell_type": "markdown",
   "id": "448cfbb9",
   "metadata": {},
   "source": [
    "> **HINT 3.2.2**: the same function in a single line of Python. Try to do the exercise without revealing the hint. To reveal it, uncomment the `print()` line and run the cell."
   ]
  },
  {
   "cell_type": "code",
   "execution_count": null,
   "id": "a2438954",
   "metadata": {},
   "outputs": [],
   "source": [
    "blob = b'ZiA9IGxhbWJkYSAqYXJnczogc3VtKGFyZ3MpCmYoMSwgMiwgMywgNCk='\n",
    "# print(b64decode(blob).decode('utf8'))"
   ]
  },
  {
   "cell_type": "markdown",
   "id": "0020d67c",
   "metadata": {},
   "source": [
    "## A more complete environment"
   ]
  },
  {
   "cell_type": "markdown",
   "id": "7e790859",
   "metadata": {},
   "source": [
    "This new version of `standard_env()` defines functions that handle lists."
   ]
  },
  {
   "cell_type": "code",
   "execution_count": null,
   "id": "ddc39918",
   "metadata": {},
   "outputs": [],
   "source": [
    "def standard_env() -> Environment:\n",
    "    \"An environment with some Scheme standard procedures.\"\n",
    "    env: Environment = {}\n",
    "    env.update(vars(math))   # sin, cos, sqrt, pi, ...\n",
    "    env.update(\n",
    "        {\n",
    "            '+': op.add,\n",
    "            '-': op.sub,\n",
    "            '*': op.mul,\n",
    "            '/': op.truediv,\n",
    "            'quotient': op.floordiv,\n",
    "            '>': op.gt,\n",
    "            '<': op.lt,\n",
    "            '>=': op.ge,\n",
    "            '<=': op.le,\n",
    "            '=': op.eq,\n",
    "            'abs': abs,\n",
    "            'append': lambda *args: list(chain(*args)),\n",
    "            'apply': lambda proc, args: proc(*args),\n",
    "            'begin': lambda *x: x[-1],\n",
    "            'car': lambda x: x[0],\n",
    "            'cdr': lambda x: x[1:],\n",
    "            'cons': lambda x, y: [x] + y,\n",
    "            'eq?': op.is_,\n",
    "            'equal?': op.eq,\n",
    "            'filter': lambda *args: list(filter(*args)),\n",
    "            'length': len,\n",
    "            'list': lambda *x: list(x),\n",
    "            'list?': lambda x: isinstance(x, list),\n",
    "            'map': lambda *args: list(map(*args)),\n",
    "            'max': max,\n",
    "            'min': min,\n",
    "            'not': op.not_,\n",
    "            'null?': lambda x: x == [],\n",
    "            'number?': lambda x: isinstance(x, (int, float)),\n",
    "            'procedure?': callable,\n",
    "            'round': round,\n",
    "            'symbol?': lambda x: isinstance(x, Symbol),\n",
    "        }\n",
    "    )\n",
    "    return env"
   ]
  },
  {
   "cell_type": "markdown",
   "id": "95a6720f",
   "metadata": {},
   "source": [
    "## `Procedure`: a class to represent a closure\n",
    "\n",
    "The next improvement to `evaluate()` will include the `(lambda …)` form to allow user-defined functions (the authors of Scheme prefer the term *procedure*). To support `lambda`, we need a class to represent a procedure:"
   ]
  },
  {
   "cell_type": "code",
   "execution_count": null,
   "id": "14484b3f",
   "metadata": {},
   "outputs": [],
   "source": [
    "class Procedure:\n",
    "    \"A user-defined Scheme procedure.\"\n",
    "\n",
    "    def __init__(self, parms: List[Symbol], body: Expression, env: Environment):\n",
    "        self.parms = parms\n",
    "        self.body = body\n",
    "        self.env = env\n",
    "\n",
    "    def __call__(self, *args: Expression) -> Any:\n",
    "        local_env = dict(zip(self.parms, args))\n",
    "        env: Environment = ChainMap(local_env, self.env)\n",
    "        return evaluate(self.body, env)"
   ]
  },
  {
   "cell_type": "markdown",
   "id": "de47e6e2",
   "metadata": {},
   "source": [
    "The `Procedure` class could very well be named `Closure`,\n",
    "because that's what it represents:\n",
    "a function definition together with an environment captured when the function is defined.\n",
    "The required parameters to create a `Procedure` are:\n",
    "\n",
    "`parms`: the function parameter names as a list of symbols. This list may be empty.\n",
    "\n",
    "`body`: the body of the function as an expression to be evaluated when the function is invoked.\n",
    "\n",
    "`env`: the environment where the function is created. This is what makes it a [*closure*](https://en.wikipedia.org/wiki/Closure_(computer_programming)).\n",
    "\n",
    "The `__init__` method simply stores the arguments passed. None of them is evaluated when the function is defined.\n",
    "\n",
    "The environment is used when the function is called to provide the values of\n",
    "the [*non-local variables*](https://en.wikipedia.org/wiki/Non-local_variable):\n",
    "variables that appear in the body of the function but that\n",
    "are not parameters or local variables.\n",
    "\n",
    "Let's create a `Procedure` \"by-hand\" to see how it works:"
   ]
  },
  {
   "cell_type": "code",
   "execution_count": null,
   "id": "4218704f",
   "metadata": {},
   "outputs": [],
   "source": [
    "double = Procedure(['n'], ['*', 'n', 2], standard_env())\n",
    "double(4)"
   ]
  },
  {
   "cell_type": "markdown",
   "id": "ce2beb44",
   "metadata": {},
   "source": [
    "## Evaluate with `lambda`, `if`, and `quote`\n",
    "\n",
    "To transform the calculator into a worthy subset of Scheme, we need to support user defined functions, conditionals and the `(quote …)` form to handle S-expressions as data—instead of evaluating them.\n"
   ]
  },
  {
   "cell_type": "code",
   "execution_count": null,
   "id": "f08c678d",
   "metadata": {},
   "outputs": [],
   "source": [
    "def evaluate(x: Expression, env: Environment) -> Any:\n",
    "    \"Evaluate an expression in an environment.\"\n",
    "    if isinstance(x, str):                       # variable reference\n",
    "        return env[x]\n",
    "    elif not isinstance(x, list):                # constant literal\n",
    "        return x\n",
    "    elif x[0] == 'define':                       # (define var exp)\n",
    "        _, var, exp = x\n",
    "        env[var] = evaluate(exp, env)\n",
    "    elif x[0] == 'lambda':                       # (lambda (var...) body)\n",
    "        _, parms, body = x\n",
    "        return Procedure(parms, body, env)\n",
    "    elif x[0] == 'quote':                        # (quote exp)\n",
    "        _, exp = x\n",
    "        return exp\n",
    "    elif x[0] == 'if':                           # (if test consequence alternative)\n",
    "        _, test, consequence, alternative = x\n",
    "        if evaluate(test, env):\n",
    "            return evaluate(consequence, env)\n",
    "        else:\n",
    "            return evaluate(alternative, env)\n",
    "    else:                                        # (proc arg...)\n",
    "        proc_exp, *args = x\n",
    "        proc = evaluate(proc_exp, env)\n",
    "        arg_values = [evaluate(exp, env) for exp in args]\n",
    "        return proc(*arg_values)"
   ]
  },
  {
   "cell_type": "markdown",
   "id": "01c829b9",
   "metadata": {},
   "source": [
    "### Evaluate `(lambda (var…) body)`\n",
    "\n",
    "```python\n",
    "    elif x[0] == 'lambda':\n",
    "        _, parms, body = x\n",
    "        return Procedure(parms, body, env)\n",
    "```\n",
    "\n",
    "If the expression is a `list` starting with the keyword `lambda`, followed by a list of 0 or more symbols, and a single `body` expression, then build and return a `Procedure`.\n",
    "\n",
    "Example:"
   ]
  },
  {
   "cell_type": "code",
   "execution_count": null,
   "id": "7070597b",
   "metadata": {},
   "outputs": [],
   "source": [
    "percent = run('(lambda (a b) (* (/ a b) 100))')\n",
    "percent(15, 20)"
   ]
  },
  {
   "cell_type": "markdown",
   "id": "9a47f501",
   "metadata": {},
   "source": [
    "The result of `(lambda …)` is an anonymous function, so it is not stored in the environment. To create a named function, use `lambda` with `define`.\n",
    "\n",
    "> **NOTE**: This version of `lis.py` only accepts a single expression as the `body` of the function. Use `(begin …)` to wrap multiple expressions. The result of the function will be the value of the last expression."
   ]
  },
  {
   "cell_type": "markdown",
   "id": "cc2f9867",
   "metadata": {},
   "source": [
    "### Evaluate `(quote exp)`\n",
    "\n",
    "```python\n",
    "    elif x[0] == 'quote':\n",
    "        _, exp = x\n",
    "        return exp\n",
    "```\n",
    "\n",
    "If the expression is a `list` starting with the keyword `quote` followed by a single expression, return the expression without evaluating it.\n",
    "\n",
    "Examples:"
   ]
  },
  {
   "cell_type": "code",
   "execution_count": null,
   "id": "fd1c03f2",
   "metadata": {},
   "outputs": [],
   "source": [
    "run('(quote no-such-name)')  # undefined symbol, would raise error if evaluated"
   ]
  },
  {
   "cell_type": "code",
   "execution_count": null,
   "id": "e0137eac",
   "metadata": {},
   "outputs": [],
   "source": [
    "run('(quote (99 bottles of beer))')  # 99 is not the name of a function or reserved word"
   ]
  },
  {
   "cell_type": "code",
   "execution_count": null,
   "id": "b33c21c9",
   "metadata": {},
   "outputs": [],
   "source": [
    "run('(quote (/ 10 0))')  # this would raise division by zero if evaluated"
   ]
  },
  {
   "cell_type": "markdown",
   "id": "3325ca91",
   "metadata": {},
   "source": [
    "### Evaluate `(if test consequence alternative)`\n",
    "\n",
    "```python\n",
    "    elif x[0] == 'if':\n",
    "        _, test, consequence, alternative = x\n",
    "        if evaluate(test, env):\n",
    "            return evaluate(consequence, env)\n",
    "        else:\n",
    "            return evaluate(alternative, env)\n",
    "```\n",
    "\n",
    "If the expression is a `list` starting with the keyword `if`, followed by exactly three expressions, evaluate `test`. If true, evaluate `consequence`; otherwise evaluate `alternative`.\n",
    "\n",
    "Example:"
   ]
  },
  {
   "cell_type": "code",
   "execution_count": null,
   "id": "4a5ba231",
   "metadata": {},
   "outputs": [],
   "source": [
    "run('(if (= 3 3) 1 0)')"
   ]
  },
  {
   "cell_type": "code",
   "execution_count": null,
   "id": "76363d8d",
   "metadata": {},
   "outputs": [],
   "source": [
    "run('(if (= 3 30) 1 0)')"
   ]
  },
  {
   "cell_type": "code",
   "execution_count": null,
   "id": "5f7d5781",
   "metadata": {},
   "outputs": [],
   "source": [
    "source = '''\n",
    "(define pass-fail\n",
    "    (lambda (grade)\n",
    "        (if (>= grade 5)\n",
    "            (quote PASS)\n",
    "            (quote FAIL))))\n",
    "(pass-fail 7)\n",
    "'''\n",
    "run(source)"
   ]
  },
  {
   "cell_type": "markdown",
   "id": "2c3899b7",
   "metadata": {},
   "source": [
    "## The REPL\n",
    "\n",
    "Norvig's REPL (Read-Eval-Print-Loop) is easy to undersand but not user-friendly.\n",
    "If no command-line arguments are given to _lis.py_,\n",
    "the `repl()` function is invoked by `main()`—defined at the end of the module.\n",
    "At the `lis.py>` prompt we must enter correct and complete expressions—if\n",
    "we forget to close one parenthesis, _lis.py_ crashes.\n",
    "\n",
    "> **NOTE**: As I studied Norvig's _lis.py_ and _lispy.py_, I started a fork named\n",
    "  [`mylis`](https://github.com/fluentpython/lispy/blob/main/mylis)\n",
    "  which adds some features, including a REPL that accepts partial S-expressions\n",
    "  and prompts for the continuation, similar to how Python's REPL\n",
    "  knows we are not finished and presents the secondary prompt `...` until\n",
    "  we enter a complete expression or statement that can be evaluated.\n",
    "  `mylis` also handles a few errors gracefully, but it's still easy to crash.\n"
   ]
  },
  {
   "cell_type": "code",
   "execution_count": null,
   "id": "c74fc0bc",
   "metadata": {},
   "outputs": [],
   "source": [
    "def repl(prompt: str = 'lis.py> ') -> NoReturn:\n",
    "    \"A prompt-read-evaluate-print loop.\"\n",
    "    global_env: Environment = standard_env()\n",
    "    while True:\n",
    "        val = evaluate(parse(input(prompt)), global_env)\n",
    "        if val is not None:\n",
    "            print(lispstr(val))\n",
    "\n",
    "\n",
    "def lispstr(exp: object) -> str:\n",
    "    \"Convert a Python object back into a Lisp-readable string.\"\n",
    "    if isinstance(exp, list):\n",
    "        return '(' + ' '.join(map(lispstr, exp)) + ')'\n",
    "    else:\n",
    "        return str(exp)"
   ]
  },
  {
   "cell_type": "markdown",
   "id": "e80d5ba0",
   "metadata": {},
   "source": [
    "Function `repl` calls `standard_env()` to provide built-in functions for the global environment,\n",
    "then enters an infinite loop reading and parsing each input line,\n",
    "evaluating it in the global environment and displaying the result—unless it's `None`.\n",
    "The `global_env` may be modified by `evaluate`.\n",
    "\n",
    "`lispstr` is the inverse function of `parse`:\n",
    "given a Python object representing an expression,\n",
    "`parse` returns the Scheme source code for it.\n",
    "For example:"
   ]
  },
  {
   "cell_type": "code",
   "execution_count": null,
   "id": "cb71c584",
   "metadata": {},
   "outputs": [],
   "source": [
    "lispstr(['+', 32, ['*', ['/', 9, 5], 'c']])"
   ]
  },
  {
   "cell_type": "markdown",
   "id": "b94038bf",
   "metadata": {},
   "source": [
    "## Exemplos\n",
    "\n",
    "### Fatorial recursivo simples"
   ]
  },
  {
   "cell_type": "code",
   "execution_count": null,
   "id": "734fcf10",
   "metadata": {},
   "outputs": [],
   "source": [
    "fact_src = '''\n",
    "(define ! (lambda (n)\n",
    "    (if (< n 2)\n",
    "        1\n",
    "        (* n (! (- n 1)))\n",
    ")))\n",
    "\n",
    "(! 5)\n",
    "'''\n",
    "run(fact_src)"
   ]
  },
  {
   "cell_type": "markdown",
   "id": "ee92dfec",
   "metadata": {},
   "source": [
    "### Quicksort\n",
    "\n",
    "O [algoritmo recursivo de ordenação](https://pt.wikipedia.org/wiki/Quicksort) elegante inventado por Tony Hoare.\n",
    "\n",
    "Observe o uso de `quote` para criar uma lista de números na última linha, e também o uso das funções de tratamento de listas `null?`, `car`, `cdr`, `append`, `list`, e `filter` da linguagem Scheme."
   ]
  },
  {
   "cell_type": "code",
   "execution_count": null,
   "id": "15cca0ad",
   "metadata": {},
   "outputs": [],
   "source": [
    "quicksort_src = \"\"\"\n",
    "(define quicksort (lambda (lst)\n",
    "    (if (null? lst)\n",
    "        lst\n",
    "        (begin\n",
    "            (define pivô (car lst))\n",
    "            (define resto (cdr lst))\n",
    "            (append\n",
    "                (quicksort\n",
    "                    (filter (lambda (x) (< x pivô)) resto))\n",
    "                (list pivô)\n",
    "                (quicksort\n",
    "                    (filter (lambda (x) (>= x pivô)) resto)))\n",
    "))))\n",
    "\n",
    "(quicksort (quote (2 1 6 3 4 0 8 9 7 5)))\n",
    "\"\"\"\n",
    "run(quicksort_src)"
   ]
  },
  {
   "cell_type": "markdown",
   "id": "4fad86fe",
   "metadata": {},
   "source": [
    "### Raiz quadrada por aproximação\n",
    "\n",
    "Algoritmo conhecido como [método bibilônio](https://en.wikipedia.org/wiki/Methods_of_computing_square_roots#Babylonian_method),\n",
    "um antigo caso especial do [Método de Newton–Raphson](https://pt.wikipedia.org/wiki/M%C3%A9todo_de_Newton%E2%80%93Raphson).\n",
    "Este código foi adaptado de um [examplo](https://mitpress.mit.edu/sites/default/files/sicp/full-text/sicp/book/node12.html) do livro *Structure and Interpretation of Computer Programs*."
   ]
  },
  {
   "cell_type": "code",
   "execution_count": null,
   "id": "92102295",
   "metadata": {},
   "outputs": [],
   "source": [
    "raiz2_scm = \"\"\"\n",
    "(define raiz2 (lambda (x)\n",
    "    (raiz2-iter 1.0 x)))\n",
    "\n",
    "(define raiz2-iter (lambda (chute x)\n",
    "    (if (próximo? chute x)\n",
    "        chute\n",
    "        (raiz2-iter (melhorar chute x) x))))\n",
    "\n",
    "(define próximo? (lambda (chute x)\n",
    "    (< (abs (- (* chute chute) x)) 0.001)))\n",
    "\n",
    "(define melhorar (lambda (chute x)\n",
    "    (média chute (/ x chute))))\n",
    "\n",
    "(define média (lambda (x y)\n",
    "    (/ (+ x y) 2)))\n",
    "\n",
    "(raiz2 12345654321)\n",
    "\"\"\"\n",
    "run(raiz2_scm)"
   ]
  },
  {
   "cell_type": "markdown",
   "id": "14327f0f",
   "metadata": {},
   "source": [
    "### Fatorial com recursão de cauda\n",
    "\n",
    "A função `fatorial-iter` faz recursão de cauda:\n",
    "a chamada recursiva é devolvida como resultado diretamente.\n",
    "Isso é denominado uma chamada de cauda ou [*tail call*](https://en.wikipedia.org/wiki/Tail_call).\n",
    "\n",
    "Em contraste, o [Fatorial recursivo simples](#Fatorial-recursivo-simples)\n",
    "não é um exemplo de recursão de cauda:\n",
    "o resultado da chamada recursiva é multiplicado por `n` antes de ser devolvido.\n",
    "\n",
    "O sufixo `-iter` é comumente usado em Scheme para funções que fazem iteração por recursão de cauda. É comum que tais funções utilizem um parâmetro acumulador, que vai gradualmente acumulando resultados parciais. Em `fatorial-iter`, o parâmetro `produto` é o acumulador."
   ]
  },
  {
   "cell_type": "code",
   "execution_count": null,
   "id": "b23d77fa",
   "metadata": {},
   "outputs": [],
   "source": [
    "fact_src = '''\n",
    "(define ! (lambda (n)\n",
    "    (fatorial-iter n 1)))\n",
    "\n",
    "(define fatorial-iter\n",
    "    (lambda (n produto)\n",
    "        (if (= n 1)\n",
    "            produto\n",
    "            (fatorial-iter (- n 1) (* n produto))\n",
    "        )\n",
    "    )\n",
    ")\n",
    "\n",
    "(! 5)\n",
    "'''\n",
    "run(fact_src)"
   ]
  },
  {
   "cell_type": "markdown",
   "id": "baf4e81c",
   "metadata": {},
   "source": [
    "> **NOTA**: `lis.py` não implementa chamadas de cauda eficientes, um recurso conhecido em inglês como _proper tail call_ (PTC) ou _tail call optimization_ (TCO), conforme o autor.\n",
    "Portanto, não há vantagem em fazer recursão de cauda. Porém\n",
    "[`lispy.py`](https://github.com/norvig/pytudes/blob/main/py/lispy.py) e\n",
    "[`mylis_2`](https://github.com/fluentpython/lispy/blob/main/mylis/mylis_2/lis.py)\n",
    "implementam PTC, o que significa que nesses interpretadores uma recursão de cauda não faz a pilha crescer a cada iteração."
   ]
  },
  {
   "cell_type": "markdown",
   "id": "a5e3f1b2",
   "metadata": {},
   "source": [
    "### Máximo divisor comum\n",
    "\n",
    "O [algoritmo de Euclides](https://pt.wikipedia.org/wiki/Algoritmo_de_Euclides).\n",
    "\n",
    "> **NOTA**: Este exemplo usa `lambda` dentro de `define` em vez da sintaxe abreviada com `define`\n",
    "ilustrada na em [Sintaxe de Scheme](#Syntaxe-de-Scheme). Leia mais a seguir."
   ]
  },
  {
   "cell_type": "code",
   "execution_count": null,
   "id": "90ea18a7",
   "metadata": {},
   "outputs": [],
   "source": [
    "mdc_scm = '''\n",
    "(define resto (lambda (m n)\n",
    "    (- m (* n (quotient m n)))))\n",
    "\n",
    "(define mdc (lambda (m n)\n",
    "    (if (= n 0)\n",
    "        m\n",
    "        (mdc n (resto m n)))))\n",
    "\n",
    "(mdc 18 45)\n",
    "'''\n",
    "run(mdc_scm)"
   ]
  },
  {
   "cell_type": "markdown",
   "id": "3827b5bf",
   "metadata": {},
   "source": [
    "## Syntactic sugar\n",
    "\n",
    "Standard Scheme provides an alternative syntax for `define` that allows defining named functions without `lambda`.\n",
    "\n",
    "The syntax is: `(define (name parms…) body…)`, where:\n",
    "\n",
    "`name`: the name of the function to be defined (a `Symbol`);\n",
    "\n",
    "`parms…`: 0 or more symbols declaring the parameter names;\n",
    "\n",
    "`body…`: 1 or more expressions to be used as the body of the function.\n",
    "\n",
    "That's is an example of _syntactic sugar_: new syntax that does not add any functionality to the language, but makes it more convenient to use.\n",
    "\n",
    "The version of `gcd` shown in [Scheme Syntax](#Scheme-Syntax) uses that shortcut syntax. Here it is again:\n",
    "\n",
    "```lisp\n",
    "(define (mod m n)\n",
    "    (- m (* n (quotient m n))))\n",
    "\n",
    "(define (gcd m n)\n",
    "    (if (= n 0)\n",
    "        m\n",
    "        (gcd n (mod m n))))\n",
    "\n",
    "(gcd 18 45)\n",
    "```\n",
    "\n",
    "### Take-home exercise\n",
    "\n",
    "Check your understanding of `lis.py` by implementing the shortcut syntax of `define` in the `evaluate()` function.\n",
    "Test your work by running the example below. The result should be 9.\n"
   ]
  },
  {
   "cell_type": "code",
   "execution_count": null,
   "id": "de5f3a1a",
   "metadata": {},
   "outputs": [],
   "source": [
    "gcd2_src = '''\n",
    "(define (mod m n)\n",
    "    (- m (* n (quotient m n))))\n",
    "\n",
    "(define (gcd m n)\n",
    "    (if (= n 0)\n",
    "        m\n",
    "        (gcd n (mod m n))))\n",
    "\n",
    "(gcd 18 45)\n",
    "'''\n",
    "# run(gcd2_src)"
   ]
  },
  {
   "cell_type": "code",
   "execution_count": null,
   "id": "1ccbbd90",
   "metadata": {},
   "outputs": [],
   "source": []
  }
 ],
 "metadata": {
  "jupytext": {
   "encoding": "# -*- coding: utf-8 -*-"
  },
  "kernelspec": {
   "display_name": "Python 3 (ipykernel)",
   "language": "python",
   "name": "python3"
  },
  "language_info": {
   "codemirror_mode": {
    "name": "ipython",
    "version": 3
   },
   "file_extension": ".py",
   "mimetype": "text/x-python",
   "name": "python",
   "nbconvert_exporter": "python",
   "pygments_lexer": "ipython3",
   "version": "3.7.9"
  }
 },
 "nbformat": 4,
 "nbformat_minor": 5
}
