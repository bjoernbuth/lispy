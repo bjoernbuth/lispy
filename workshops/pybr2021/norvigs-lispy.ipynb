{
 "cells": [
  {
   "cell_type": "markdown",
   "id": "2ab26756",
   "metadata": {},
   "source": [
    "# Norvig's `lis.py`\n",
    "\n",
    "\n",
    "[Peter Norvig](https://norvig.com/) of Stanford University wrote\n",
    "[`lis.py`](https://github.com/norvig/pytudes/blob/main/py/lis.py):\n",
    "an interpreter for a subset of the Scheme dialect of Lisp in 132 lines of readable Python code.\n",
    "\n",
    "Why should you study `lis.py`? This is what I got out of it:\n",
    "\n",
    "* lis.py is a beautiful example of idiomatic Python code;\n",
    "\n",
    "* Learning how an interpreter works gave me a deeper understanding of Python and programming languages in general—interpreted or compiled;\n",
    "\n",
    "* The simplicity of Scheme is a master class of language design.\n",
    "\n",
    "![Norvig's lispy](norvigs-lispy.png)\n",
    "\n",
    "Before looking at the Python code, let’s get a little taste of Scheme—in case you haven’t seen it (or Lisp) before.\n"
   ]
  },
  {
   "cell_type": "markdown",
   "id": "feabd3c3",
   "metadata": {},
   "source": [
    "## Scheme Syntax\n",
    "\n",
    "\n",
    "Everything in Scheme is an expression.\n",
    "There are no infix operators:\n",
    "all expressions use prefix notation like `(+ x 13)` instead of `x + 13`.\n",
    "The same prefix notation is used for function calls—e.g. `(gcd x 13)`—and\n",
    "special forms—e.g. `(define x 13)`,\n",
    "which we'd write as the assignment statement `x = 13` in\n",
    "Python.\n",
    "The notation used by Scheme and most Lisp dialects is known as _S-expression_.\n",
    "\n",
    "Here is a simple example in Scheme:\n",
    "\n",
    "```scheme\n",
    "(define (mod m n)\n",
    "    (- m (* n (// m n))))\n",
    "\n",
    "(define (gcd m n)\n",
    "    (if (= n 0)\n",
    "        m\n",
    "        (gcd n (mod m n))))\n",
    "\n",
    "(display (gcd 18 45))\n",
    "```"
   ]
  },
  {
   "cell_type": "markdown",
   "id": "77d983a7",
   "metadata": {},
   "source": [
    "Here is the same algorithm in Python:\n",
    "\n",
    "```python\n",
    "def mod(m, n):\n",
    "    return m - (m // n * n)\n",
    "\n",
    "def gcd(m, n):\n",
    "    if n == 0:\n",
    "        return m\n",
    "    else:\n",
    "        return gcd(m, mod(m, n))\n",
    "\n",
    "print(gcd(18, 45))\n",
    "```\n"
   ]
  },
  {
   "cell_type": "markdown",
   "id": "ec042161",
   "metadata": {},
   "source": [
    "In idiomatic Python I'd use the `%` operator instead of reinventing `mod`,\n",
    "and it would be more efficient to use a `while` loop instead of recursion.\n",
    "But I wanted to show two function definitions,\n",
    "and make the examples as similar as possible,\n",
    "to help you read the Scheme code.\n",
    "\n",
    "Scheme has no iterative control flow commands like `while` or `for`.\n",
    "Iteration is done with recursion.\n",
    "Note how there are no assignments in the Scheme and Python examples.\n",
    "Extensive use of recursion and minimal use of assignment\n",
    "are hallmarks of programming in a functional style.\n",
    "\n",
    "Now let's review the code of the Python 3.10 version of `lis.py`.\n",
    "The complete source code with tests is in the [18-with-match/lispy/py3.10/](https://github.com/fluentpython/example-code-2e/tree/master/18-with-match/lispy/py3.10/)\n",
    "directory of the Github repository\n",
    "[fluentpython/example-code-2e](https://github.com/fluentpython/example-code-2e)."
   ]
  },
  {
   "cell_type": "code",
   "execution_count": 5,
   "id": "a42402f9",
   "metadata": {},
   "outputs": [],
   "source": [
    "import sys\n",
    "assert sys.version_info >= (3, 9)"
   ]
  },
  {
   "cell_type": "code",
   "execution_count": null,
   "id": "4d1a14aa",
   "metadata": {},
   "outputs": [],
   "source": []
  }
 ],
 "metadata": {
  "kernelspec": {
   "display_name": "Python 3 (ipykernel)",
   "language": "python",
   "name": "python3"
  },
  "language_info": {
   "codemirror_mode": {
    "name": "ipython",
    "version": 3
   },
   "file_extension": ".py",
   "mimetype": "text/x-python",
   "name": "python",
   "nbconvert_exporter": "python",
   "pygments_lexer": "ipython3",
   "version": "3.9.5"
  }
 },
 "nbformat": 4,
 "nbformat_minor": 5
}
